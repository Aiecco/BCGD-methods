{
 "cells": [
  {
   "cell_type": "code",
   "execution_count": 4,
   "metadata": {},
   "outputs": [],
   "source": [
    "import numpy as np"
   ]
  },
  {
   "cell_type": "code",
   "execution_count": 69,
   "metadata": {},
   "outputs": [],
   "source": [
    "## Initialize random data (A matrix)\n",
    "m = 1000 # number of examples\n",
    "d = 1000 # dim of example\n",
    "k = 50 # number of output classes\n",
    "# Data init\n",
    "A = np.random.normal(0,1,size=(m,d)) # (# examples, dim examples)\n",
    "# Param init\n",
    "X = np.random.normal(0,1,size=(d,k)) # (dim examples, # classes)\n",
    "E = np.random.normal(0,1,size=(m,k)) \n",
    "# Generate target classes\n",
    "#b_i = np.random.randint(1, k+1, size=(m,1))\n",
    "#b_i_zeroidx = b_i - 1\n",
    "I_k = np.eye(k)\n",
    "\n",
    "# This is a kinda strange way of generating data\n",
    "b = np.dot(A,X) + E # (m,k)\n",
    "b_i = b.argmax(axis=1) # zero indexed!\n",
    "b_onehot = I_k[b_i]"
   ]
  },
  {
   "cell_type": "code",
   "execution_count": 40,
   "metadata": {},
   "outputs": [
    {
     "data": {
      "text/plain": [
       "array([20, 46, 18, 31,  3, 32, 27, 41, 30, 30,  4, 47, 12, 37, 42, 27, 44,\n",
       "       44,  8,  7, 19,  7, 43, 43, 30, 36,  3, 48, 20, 34, 22, 18, 14,  0,\n",
       "       11, 48, 43,  8, 26, 42, 10,  5,  7, 28,  6, 47, 17,  5, 11, 27, 49,\n",
       "       35,  8, 30, 11, 25, 18, 38,  4, 29, 34, 18, 39, 28,  3, 28, 47, 27,\n",
       "        2, 34, 22, 34, 25,  0, 12,  4, 21,  1,  4, 17, 48, 24,  0, 29,  1,\n",
       "       29, 11, 10, 26, 44, 49,  1, 44, 31, 27, 18, 12,  7, 43, 35,  4, 14,\n",
       "       36, 10, 17, 46, 36,  8, 44,  6,  2,  3, 15, 42,  8,  3, 41,  3,  4,\n",
       "       47, 31, 48, 38, 39, 49, 18,  8,  9, 45, 49, 31, 34, 19, 49,  3, 31,\n",
       "       47, 46, 29, 42, 32, 14,  1, 29, 22, 28, 14, 19,  7, 19, 49, 21, 32,\n",
       "       19, 46, 33, 13, 11, 23, 19,  7, 45, 27, 19, 22,  6, 42,  5, 45, 26,\n",
       "       40, 18, 14, 22, 30, 39, 14, 13,  4, 49, 35, 19, 18, 32,  7,  0, 10,\n",
       "       46, 39,  3, 30, 20,  3,  2, 21, 11, 11, 26, 22,  3, 32, 28, 22,  0,\n",
       "       23, 27, 38, 11, 35, 19, 36, 30, 38, 19, 38,  4, 19, 42, 46, 25,  4,\n",
       "       30, 38, 32,  9, 42, 49, 40,  7, 40, 40, 40, 40, 11, 42, 26, 48, 37,\n",
       "       49, 27, 32, 31, 39, 34, 25,  6, 36, 22,  0, 41,  2, 48,  1, 37, 25,\n",
       "       30, 47,  1, 23, 25,  0,  0, 41, 33, 16, 16, 16,  5, 25, 41, 47, 45,\n",
       "       18, 22, 26,  2, 32, 38, 40, 32,  2, 17, 34, 33, 49,  5, 29, 44,  5,\n",
       "       49, 26, 28,  1, 40, 30, 18,  6, 14, 46, 33,  7, 44, 18, 46, 34, 39,\n",
       "       45, 22, 14, 26,  5, 27,  6, 49, 27,  5, 12, 22,  9, 14,  0, 38, 46,\n",
       "       11, 19, 26, 34, 21, 42, 38, 30, 26,  3, 37, 34, 25,  6, 22, 42, 11,\n",
       "       21,  2, 45, 25,  5, 25, 17,  4, 22, 10,  2, 44, 29, 39, 49, 38,  4,\n",
       "       24, 39, 28, 37,  3, 36, 33, 31,  7, 46, 44, 23, 42, 40, 11, 24, 45,\n",
       "        9, 29, 36,  0, 22,  0, 10, 19, 16, 14, 49,  2,  7, 42, 31,  1, 16,\n",
       "       39, 25,  6, 34,  1, 34, 35, 43, 45, 43, 18, 11, 13, 10, 43, 33, 11,\n",
       "       44, 38,  0, 32, 14, 44,  4, 30,  5, 27, 34, 19, 37, 17, 33,  7, 32,\n",
       "       10, 31, 32,  3,  9, 40, 45,  1,  2, 42, 34, 33, 22, 42, 20,  7, 38,\n",
       "       18, 47, 48, 38,  6,  8,  0, 43, 23, 12, 12,  5, 39, 31, 12, 26, 24,\n",
       "       31,  3, 32, 32, 40, 30, 15, 21, 12, 49, 25, 16, 11, 18, 31,  6, 12,\n",
       "       24, 26, 38, 32, 17,  7, 49, 12, 27, 30, 46, 40, 15, 32, 16,  5, 36,\n",
       "        2,  6, 40, 14, 24, 32,  6, 10, 47,  4, 38, 22, 40,  1, 47, 38,  1,\n",
       "       35, 17,  6, 31, 22, 17, 27, 47, 31, 27, 25, 14,  4, 29, 40, 46, 41,\n",
       "       27, 12,  4, 14, 36, 31,  4,  5, 41,  0,  4, 24, 36, 16,  2, 36,  3,\n",
       "       40, 18, 27, 20,  2, 31, 12, 16, 27,  5,  2, 26, 31, 47, 20, 18,  2,\n",
       "       36,  5, 43, 15, 24, 20, 22, 21, 36, 38, 17,  8, 11,  2, 20, 32, 42,\n",
       "       29,  7, 46, 20,  5,  1, 10, 38, 45,  3, 19, 46, 45, 11,  2,  8,  9,\n",
       "        5,  3,  0, 47, 49,  6, 34, 49, 49, 48, 20, 36, 44, 17,  7, 24, 36,\n",
       "       17, 45, 39, 11,  0, 19, 49, 27, 37, 36, 38, 41, 42, 26, 26, 21,  7,\n",
       "        3, 44, 26, 17,  6, 11, 13, 40, 32,  6, 44, 31, 33, 27, 32, 33, 47,\n",
       "       31, 32, 37,  5,  1, 48,  1, 39,  2, 28, 14,  4, 18,  9, 37, 41, 47,\n",
       "        2, 29, 18, 23, 38, 35, 29, 41,  4, 34, 48, 14, 18, 12,  5, 32,  3,\n",
       "       25, 15, 40, 43, 22,  8, 35, 11, 19, 36, 19, 31, 14,  9,  4, 43, 14,\n",
       "        2, 43, 46,  3, 11, 26, 35, 35, 26, 26, 19, 17, 39,  8, 22,  0, 11,\n",
       "       16, 34,  5, 24,  3, 38, 45, 24,  1, 15, 17, 34,  4, 15,  3, 21, 29,\n",
       "       25, 34,  3, 24,  1,  5, 39, 33, 11, 19, 23, 14, 13,  5, 30, 35, 26,\n",
       "       36, 19, 44, 49,  5, 34, 15, 42,  2, 41, 10,  2, 41, 19,  6,  4, 39,\n",
       "       23,  7, 28,  9, 19, 32, 31, 46, 39, 47, 49,  8, 13, 28, 39, 12, 34,\n",
       "       18, 43, 41, 40, 47, 27, 38, 31,  8, 38,  1, 42, 10, 40, 20, 27, 23,\n",
       "        2, 25, 12,  4, 33, 46, 41, 21,  9, 11,  6,  9, 22, 22,  6,  5, 22,\n",
       "       18, 35, 36,  3, 31, 43, 24, 43, 43, 18,  7, 12,  1, 33, 48, 15,  4,\n",
       "       14, 29, 25, 33,  2, 32, 18, 31,  8, 23, 46, 32, 10, 29, 19, 33, 11,\n",
       "       33, 31, 16, 20, 25, 27, 14, 32,  3, 21,  1, 46, 44, 43, 10, 44, 33,\n",
       "        9, 49, 20, 49, 15, 40, 49,  8, 31, 25, 12, 14, 21, 14,  6,  1, 18,\n",
       "        2, 11, 40, 18, 16,  8, 29, 39, 41, 30,  2,  2, 41, 23,  6, 11,  7,\n",
       "        0, 37,  2, 32, 38,  4, 37, 15, 47, 22, 31, 12, 31, 18, 12, 46, 47,\n",
       "        4, 15,  7, 38,  8,  0,  3, 12,  8, 21, 48, 14, 17, 32, 41, 18,  2,\n",
       "        1, 15,  7, 12, 24, 41,  4, 29, 29, 19, 16, 23,  1, 16, 26,  6,  1,\n",
       "       21, 22, 14, 46, 32, 14, 12, 29, 14, 48, 16,  0, 42, 47, 49, 22, 23,\n",
       "       10, 17, 39, 46, 38, 34, 45, 30, 30, 30,  6,  9, 47,  4, 27, 24, 49,\n",
       "       35,  3, 31, 12, 32, 41, 49, 13, 44, 10, 32, 10, 44, 22],\n",
       "      dtype=int64)"
      ]
     },
     "execution_count": 40,
     "metadata": {},
     "output_type": "execute_result"
    }
   ],
   "source": [
    "b.argmax(axis=1)"
   ]
  },
  {
   "cell_type": "code",
   "execution_count": 64,
   "metadata": {},
   "outputs": [],
   "source": [
    "from scipy.special import softmax\n",
    "def grad(A, Y, X):\n",
    "    Z = - A @ X\n",
    "    probs = softmax(Z, axis=1)\n",
    "    m = A.shape[0]\n",
    "    grad_X = 1/m * (A.T @ (Y - probs))\n",
    "    return grad_X\n",
    "def loss(A, Y, X):\n",
    "    Z = - A @ X\n",
    "    N = A.shape[0]\n",
    "    loss = 1/N * (np.trace(A @ X @ Y.T) + np.sum(np.log(np.sum(np.exp(Z), axis=1))))\n",
    "    return loss"
   ]
  },
  {
   "cell_type": "code",
   "execution_count": 65,
   "metadata": {},
   "outputs": [],
   "source": [
    "import pandas as pd\n",
    "#from sklearn.preprocessing import OneHotEncoder\n",
    "#onehot_encoder = OneHotEncoder(sparse=False)\n",
    "def gd(A, b_onehot, max_iter=1000, eta=0.1, X_0 = None):\n",
    "    m,d = A.shape\n",
    "    k = b_onehot.shape[1]\n",
    "    X = np.zeros((d, k)) if X_0 is None else X_0\n",
    "    loss_hist = []\n",
    " \n",
    "    for i in range(max_iter):\n",
    "        X -= eta * grad(A, b_onehot, X)\n",
    "        loss_hist.append(loss(A, b_onehot, X))\n",
    "\n",
    "    df = pd.DataFrame({'loss': loss_hist})\n",
    "    return df, X"
   ]
  },
  {
   "cell_type": "code",
   "execution_count": 70,
   "metadata": {},
   "outputs": [],
   "source": [
    "df, W = gd(A,b_onehot)"
   ]
  },
  {
   "cell_type": "code",
   "execution_count": 71,
   "metadata": {},
   "outputs": [
    {
     "data": {
      "text/html": [
       "<div>\n",
       "<style scoped>\n",
       "    .dataframe tbody tr th:only-of-type {\n",
       "        vertical-align: middle;\n",
       "    }\n",
       "\n",
       "    .dataframe tbody tr th {\n",
       "        vertical-align: top;\n",
       "    }\n",
       "\n",
       "    .dataframe thead th {\n",
       "        text-align: right;\n",
       "    }\n",
       "</style>\n",
       "<table border=\"1\" class=\"dataframe\">\n",
       "  <thead>\n",
       "    <tr style=\"text-align: right;\">\n",
       "      <th></th>\n",
       "      <th>loss</th>\n",
       "    </tr>\n",
       "  </thead>\n",
       "  <tbody>\n",
       "    <tr>\n",
       "      <th>0</th>\n",
       "      <td>3.803324</td>\n",
       "    </tr>\n",
       "    <tr>\n",
       "      <th>1</th>\n",
       "      <td>3.695579</td>\n",
       "    </tr>\n",
       "    <tr>\n",
       "      <th>2</th>\n",
       "      <td>3.588834</td>\n",
       "    </tr>\n",
       "    <tr>\n",
       "      <th>3</th>\n",
       "      <td>3.483141</td>\n",
       "    </tr>\n",
       "    <tr>\n",
       "      <th>4</th>\n",
       "      <td>3.378556</td>\n",
       "    </tr>\n",
       "    <tr>\n",
       "      <th>...</th>\n",
       "      <td>...</td>\n",
       "    </tr>\n",
       "    <tr>\n",
       "      <th>995</th>\n",
       "      <td>0.012359</td>\n",
       "    </tr>\n",
       "    <tr>\n",
       "      <th>996</th>\n",
       "      <td>0.012346</td>\n",
       "    </tr>\n",
       "    <tr>\n",
       "      <th>997</th>\n",
       "      <td>0.012333</td>\n",
       "    </tr>\n",
       "    <tr>\n",
       "      <th>998</th>\n",
       "      <td>0.012320</td>\n",
       "    </tr>\n",
       "    <tr>\n",
       "      <th>999</th>\n",
       "      <td>0.012307</td>\n",
       "    </tr>\n",
       "  </tbody>\n",
       "</table>\n",
       "<p>1000 rows × 1 columns</p>\n",
       "</div>"
      ],
      "text/plain": [
       "         loss\n",
       "0    3.803324\n",
       "1    3.695579\n",
       "2    3.588834\n",
       "3    3.483141\n",
       "4    3.378556\n",
       "..        ...\n",
       "995  0.012359\n",
       "996  0.012346\n",
       "997  0.012333\n",
       "998  0.012320\n",
       "999  0.012307\n",
       "\n",
       "[1000 rows x 1 columns]"
      ]
     },
     "execution_count": 71,
     "metadata": {},
     "output_type": "execute_result"
    }
   ],
   "source": [
    "df"
   ]
  },
  {
   "cell_type": "code",
   "execution_count": 72,
   "metadata": {},
   "outputs": [
    {
     "data": {
      "text/plain": [
       "[<matplotlib.lines.Line2D at 0x230da0e1610>]"
      ]
     },
     "execution_count": 72,
     "metadata": {},
     "output_type": "execute_result"
    },
    {
     "data": {
      "image/png": "[encoded data removed]",
      "text/plain": [
       "<Figure size 640x480 with 1 Axes>"
      ]
     },
     "metadata": {},
     "output_type": "display_data"
    }
   ],
   "source": [
    "import matplotlib.pyplot as plt\n",
    "plt.plot(df['loss'])"
   ]
  }
 ],
 "metadata": {
  "kernelspec": {
   "display_name": "Frank",
   "language": "python",
   "name": "python3"
  },
  "language_info": {
   "codemirror_mode": {
    "name": "ipython",
    "version": 3
   },
   "file_extension": ".py",
   "mimetype": "text/x-python",
   "name": "python",
   "nbconvert_exporter": "python",
   "pygments_lexer": "ipython3",
   "version": "3.11.4"
  }
 },
 "nbformat": 4,
 "nbformat_minor": 2
}
